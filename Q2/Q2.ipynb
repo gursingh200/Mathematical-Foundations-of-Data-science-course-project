{
 "cells": [
  {
   "cell_type": "markdown",
   "metadata": {},
   "source": [
    "## Question 2"
   ]
  },
  {
   "cell_type": "markdown",
   "metadata": {},
   "source": [
    "### Importing the required libraries"
   ]
  },
  {
   "cell_type": "code",
   "execution_count": 3,
   "metadata": {},
   "outputs": [],
   "source": [
    "import pandas as pd\n",
    "import numpy as np\n",
    "import matplotlib.pyplot as plt\n",
    "%matplotlib inline"
   ]
  },
  {
   "cell_type": "markdown",
   "metadata": {},
   "source": [
    "### Importing the data"
   ]
  },
  {
   "cell_type": "code",
   "execution_count": 4,
   "metadata": {},
   "outputs": [
    {
     "data": {
      "text/html": [
       "<div>\n",
       "<style scoped>\n",
       "    .dataframe tbody tr th:only-of-type {\n",
       "        vertical-align: middle;\n",
       "    }\n",
       "\n",
       "    .dataframe tbody tr th {\n",
       "        vertical-align: top;\n",
       "    }\n",
       "\n",
       "    .dataframe thead th {\n",
       "        text-align: right;\n",
       "    }\n",
       "</style>\n",
       "<table border=\"1\" class=\"dataframe\">\n",
       "  <thead>\n",
       "    <tr style=\"text-align: right;\">\n",
       "      <th></th>\n",
       "      <th>Temperature</th>\n",
       "      <th>Pressure</th>\n",
       "      <th>Feed Flow rate</th>\n",
       "      <th>Coolant Flow rate</th>\n",
       "      <th>Inlet reactant concentration</th>\n",
       "      <th>Test</th>\n",
       "    </tr>\n",
       "  </thead>\n",
       "  <tbody>\n",
       "    <tr>\n",
       "      <td>0</td>\n",
       "      <td>406.86</td>\n",
       "      <td>17.66</td>\n",
       "      <td>121.83</td>\n",
       "      <td>2109.20</td>\n",
       "      <td>0.1033</td>\n",
       "      <td>Pass</td>\n",
       "    </tr>\n",
       "    <tr>\n",
       "      <td>1</td>\n",
       "      <td>693.39</td>\n",
       "      <td>24.66</td>\n",
       "      <td>133.18</td>\n",
       "      <td>3138.96</td>\n",
       "      <td>0.3785</td>\n",
       "      <td>Pass</td>\n",
       "    </tr>\n",
       "    <tr>\n",
       "      <td>2</td>\n",
       "      <td>523.10</td>\n",
       "      <td>23.23</td>\n",
       "      <td>146.55</td>\n",
       "      <td>1058.24</td>\n",
       "      <td>0.4799</td>\n",
       "      <td>Fail</td>\n",
       "    </tr>\n",
       "    <tr>\n",
       "      <td>3</td>\n",
       "      <td>612.86</td>\n",
       "      <td>40.97</td>\n",
       "      <td>94.44</td>\n",
       "      <td>1325.12</td>\n",
       "      <td>0.3147</td>\n",
       "      <td>Fail</td>\n",
       "    </tr>\n",
       "    <tr>\n",
       "      <td>4</td>\n",
       "      <td>500.28</td>\n",
       "      <td>37.44</td>\n",
       "      <td>185.48</td>\n",
       "      <td>2474.51</td>\n",
       "      <td>0.2284</td>\n",
       "      <td>Pass</td>\n",
       "    </tr>\n",
       "  </tbody>\n",
       "</table>\n",
       "</div>"
      ],
      "text/plain": [
       "   Temperature  Pressure  Feed Flow rate  Coolant Flow rate  \\\n",
       "0       406.86     17.66          121.83            2109.20   \n",
       "1       693.39     24.66          133.18            3138.96   \n",
       "2       523.10     23.23          146.55            1058.24   \n",
       "3       612.86     40.97           94.44            1325.12   \n",
       "4       500.28     37.44          185.48            2474.51   \n",
       "\n",
       "   Inlet reactant concentration  Test  \n",
       "0                        0.1033  Pass  \n",
       "1                        0.3785  Pass  \n",
       "2                        0.4799  Fail  \n",
       "3                        0.3147  Fail  \n",
       "4                        0.2284  Pass  "
      ]
     },
     "execution_count": 4,
     "metadata": {},
     "output_type": "execute_result"
    }
   ],
   "source": [
    "df = pd.read_excel('Dataset_Question2.xlsx', sheet_name = 'Sheet1')\n",
    "df.head()"
   ]
  },
  {
   "cell_type": "code",
   "execution_count": 5,
   "metadata": {},
   "outputs": [],
   "source": [
    "#Changing the 'Test' column to have binary values\n",
    "def test(result):\n",
    "    if (result == 'Pass'):\n",
    "        return 1\n",
    "    elif (result == 'Fail'):\n",
    "        return 0"
   ]
  },
  {
   "cell_type": "code",
   "execution_count": 6,
   "metadata": {},
   "outputs": [],
   "source": [
    "df['Test'] = df.apply(lambda x: test(x['Test']), axis = 1)"
   ]
  },
  {
   "cell_type": "code",
   "execution_count": 7,
   "metadata": {},
   "outputs": [
    {
     "data": {
      "text/html": [
       "<div>\n",
       "<style scoped>\n",
       "    .dataframe tbody tr th:only-of-type {\n",
       "        vertical-align: middle;\n",
       "    }\n",
       "\n",
       "    .dataframe tbody tr th {\n",
       "        vertical-align: top;\n",
       "    }\n",
       "\n",
       "    .dataframe thead th {\n",
       "        text-align: right;\n",
       "    }\n",
       "</style>\n",
       "<table border=\"1\" class=\"dataframe\">\n",
       "  <thead>\n",
       "    <tr style=\"text-align: right;\">\n",
       "      <th></th>\n",
       "      <th>Temperature</th>\n",
       "      <th>Pressure</th>\n",
       "      <th>Feed Flow rate</th>\n",
       "      <th>Coolant Flow rate</th>\n",
       "      <th>Inlet reactant concentration</th>\n",
       "      <th>Test</th>\n",
       "    </tr>\n",
       "  </thead>\n",
       "  <tbody>\n",
       "    <tr>\n",
       "      <td>0</td>\n",
       "      <td>406.86</td>\n",
       "      <td>17.66</td>\n",
       "      <td>121.83</td>\n",
       "      <td>2109.20</td>\n",
       "      <td>0.1033</td>\n",
       "      <td>1</td>\n",
       "    </tr>\n",
       "    <tr>\n",
       "      <td>1</td>\n",
       "      <td>693.39</td>\n",
       "      <td>24.66</td>\n",
       "      <td>133.18</td>\n",
       "      <td>3138.96</td>\n",
       "      <td>0.3785</td>\n",
       "      <td>1</td>\n",
       "    </tr>\n",
       "    <tr>\n",
       "      <td>2</td>\n",
       "      <td>523.10</td>\n",
       "      <td>23.23</td>\n",
       "      <td>146.55</td>\n",
       "      <td>1058.24</td>\n",
       "      <td>0.4799</td>\n",
       "      <td>0</td>\n",
       "    </tr>\n",
       "    <tr>\n",
       "      <td>3</td>\n",
       "      <td>612.86</td>\n",
       "      <td>40.97</td>\n",
       "      <td>94.44</td>\n",
       "      <td>1325.12</td>\n",
       "      <td>0.3147</td>\n",
       "      <td>0</td>\n",
       "    </tr>\n",
       "    <tr>\n",
       "      <td>4</td>\n",
       "      <td>500.28</td>\n",
       "      <td>37.44</td>\n",
       "      <td>185.48</td>\n",
       "      <td>2474.51</td>\n",
       "      <td>0.2284</td>\n",
       "      <td>1</td>\n",
       "    </tr>\n",
       "  </tbody>\n",
       "</table>\n",
       "</div>"
      ],
      "text/plain": [
       "   Temperature  Pressure  Feed Flow rate  Coolant Flow rate  \\\n",
       "0       406.86     17.66          121.83            2109.20   \n",
       "1       693.39     24.66          133.18            3138.96   \n",
       "2       523.10     23.23          146.55            1058.24   \n",
       "3       612.86     40.97           94.44            1325.12   \n",
       "4       500.28     37.44          185.48            2474.51   \n",
       "\n",
       "   Inlet reactant concentration  Test  \n",
       "0                        0.1033     1  \n",
       "1                        0.3785     1  \n",
       "2                        0.4799     0  \n",
       "3                        0.3147     0  \n",
       "4                        0.2284     1  "
      ]
     },
     "execution_count": 7,
     "metadata": {},
     "output_type": "execute_result"
    }
   ],
   "source": [
    "df.head()"
   ]
  },
  {
   "cell_type": "markdown",
   "metadata": {},
   "source": [
    "### Information about the data"
   ]
  },
  {
   "cell_type": "code",
   "execution_count": 8,
   "metadata": {},
   "outputs": [
    {
     "name": "stdout",
     "output_type": "stream",
     "text": [
      "<class 'pandas.core.frame.DataFrame'>\n",
      "RangeIndex: 1000 entries, 0 to 999\n",
      "Data columns (total 6 columns):\n",
      "Temperature                     1000 non-null float64\n",
      "Pressure                        1000 non-null float64\n",
      "Feed Flow rate                  1000 non-null float64\n",
      "Coolant Flow rate               1000 non-null float64\n",
      "Inlet reactant concentration    1000 non-null float64\n",
      "Test                            1000 non-null int64\n",
      "dtypes: float64(5), int64(1)\n",
      "memory usage: 47.0 KB\n"
     ]
    }
   ],
   "source": [
    "df.info()"
   ]
  },
  {
   "cell_type": "code",
   "execution_count": 9,
   "metadata": {},
   "outputs": [
    {
     "data": {
      "text/html": [
       "<div>\n",
       "<style scoped>\n",
       "    .dataframe tbody tr th:only-of-type {\n",
       "        vertical-align: middle;\n",
       "    }\n",
       "\n",
       "    .dataframe tbody tr th {\n",
       "        vertical-align: top;\n",
       "    }\n",
       "\n",
       "    .dataframe thead th {\n",
       "        text-align: right;\n",
       "    }\n",
       "</style>\n",
       "<table border=\"1\" class=\"dataframe\">\n",
       "  <thead>\n",
       "    <tr style=\"text-align: right;\">\n",
       "      <th></th>\n",
       "      <th>Temperature</th>\n",
       "      <th>Pressure</th>\n",
       "      <th>Feed Flow rate</th>\n",
       "      <th>Coolant Flow rate</th>\n",
       "      <th>Inlet reactant concentration</th>\n",
       "      <th>Test</th>\n",
       "    </tr>\n",
       "  </thead>\n",
       "  <tbody>\n",
       "    <tr>\n",
       "      <td>count</td>\n",
       "      <td>1000.00000</td>\n",
       "      <td>1000.000000</td>\n",
       "      <td>1000.000000</td>\n",
       "      <td>1000.000000</td>\n",
       "      <td>1000.000000</td>\n",
       "      <td>1000.000000</td>\n",
       "    </tr>\n",
       "    <tr>\n",
       "      <td>mean</td>\n",
       "      <td>546.76643</td>\n",
       "      <td>25.493270</td>\n",
       "      <td>125.029060</td>\n",
       "      <td>2295.797770</td>\n",
       "      <td>0.302692</td>\n",
       "      <td>0.585000</td>\n",
       "    </tr>\n",
       "    <tr>\n",
       "      <td>std</td>\n",
       "      <td>86.85878</td>\n",
       "      <td>14.252407</td>\n",
       "      <td>43.508159</td>\n",
       "      <td>763.680625</td>\n",
       "      <td>0.116062</td>\n",
       "      <td>0.492969</td>\n",
       "    </tr>\n",
       "    <tr>\n",
       "      <td>min</td>\n",
       "      <td>400.31000</td>\n",
       "      <td>1.060000</td>\n",
       "      <td>50.030000</td>\n",
       "      <td>1002.530000</td>\n",
       "      <td>0.100300</td>\n",
       "      <td>0.000000</td>\n",
       "    </tr>\n",
       "    <tr>\n",
       "      <td>25%</td>\n",
       "      <td>469.73500</td>\n",
       "      <td>12.725000</td>\n",
       "      <td>88.587500</td>\n",
       "      <td>1635.682500</td>\n",
       "      <td>0.199075</td>\n",
       "      <td>0.000000</td>\n",
       "    </tr>\n",
       "    <tr>\n",
       "      <td>50%</td>\n",
       "      <td>545.80000</td>\n",
       "      <td>25.375000</td>\n",
       "      <td>124.590000</td>\n",
       "      <td>2268.710000</td>\n",
       "      <td>0.308850</td>\n",
       "      <td>1.000000</td>\n",
       "    </tr>\n",
       "    <tr>\n",
       "      <td>75%</td>\n",
       "      <td>618.87750</td>\n",
       "      <td>37.820000</td>\n",
       "      <td>162.562500</td>\n",
       "      <td>2983.692500</td>\n",
       "      <td>0.401625</td>\n",
       "      <td>1.000000</td>\n",
       "    </tr>\n",
       "    <tr>\n",
       "      <td>max</td>\n",
       "      <td>699.87000</td>\n",
       "      <td>49.890000</td>\n",
       "      <td>199.960000</td>\n",
       "      <td>3595.620000</td>\n",
       "      <td>0.499600</td>\n",
       "      <td>1.000000</td>\n",
       "    </tr>\n",
       "  </tbody>\n",
       "</table>\n",
       "</div>"
      ],
      "text/plain": [
       "       Temperature     Pressure  Feed Flow rate  Coolant Flow rate  \\\n",
       "count   1000.00000  1000.000000     1000.000000        1000.000000   \n",
       "mean     546.76643    25.493270      125.029060        2295.797770   \n",
       "std       86.85878    14.252407       43.508159         763.680625   \n",
       "min      400.31000     1.060000       50.030000        1002.530000   \n",
       "25%      469.73500    12.725000       88.587500        1635.682500   \n",
       "50%      545.80000    25.375000      124.590000        2268.710000   \n",
       "75%      618.87750    37.820000      162.562500        2983.692500   \n",
       "max      699.87000    49.890000      199.960000        3595.620000   \n",
       "\n",
       "       Inlet reactant concentration         Test  \n",
       "count                   1000.000000  1000.000000  \n",
       "mean                       0.302692     0.585000  \n",
       "std                        0.116062     0.492969  \n",
       "min                        0.100300     0.000000  \n",
       "25%                        0.199075     0.000000  \n",
       "50%                        0.308850     1.000000  \n",
       "75%                        0.401625     1.000000  \n",
       "max                        0.499600     1.000000  "
      ]
     },
     "execution_count": 9,
     "metadata": {},
     "output_type": "execute_result"
    }
   ],
   "source": [
    "df.describe()"
   ]
  },
  {
   "cell_type": "code",
   "execution_count": 10,
   "metadata": {},
   "outputs": [
    {
     "data": {
      "text/html": [
       "<div>\n",
       "<style scoped>\n",
       "    .dataframe tbody tr th:only-of-type {\n",
       "        vertical-align: middle;\n",
       "    }\n",
       "\n",
       "    .dataframe tbody tr th {\n",
       "        vertical-align: top;\n",
       "    }\n",
       "\n",
       "    .dataframe thead th {\n",
       "        text-align: right;\n",
       "    }\n",
       "</style>\n",
       "<table border=\"1\" class=\"dataframe\">\n",
       "  <thead>\n",
       "    <tr style=\"text-align: right;\">\n",
       "      <th></th>\n",
       "      <th>Temperature</th>\n",
       "      <th>Pressure</th>\n",
       "      <th>Feed Flow rate</th>\n",
       "      <th>Coolant Flow rate</th>\n",
       "      <th>Inlet reactant concentration</th>\n",
       "    </tr>\n",
       "    <tr>\n",
       "      <th>Test</th>\n",
       "      <th></th>\n",
       "      <th></th>\n",
       "      <th></th>\n",
       "      <th></th>\n",
       "      <th></th>\n",
       "    </tr>\n",
       "  </thead>\n",
       "  <tbody>\n",
       "    <tr>\n",
       "      <td>0</td>\n",
       "      <td>547.634964</td>\n",
       "      <td>26.320747</td>\n",
       "      <td>129.829783</td>\n",
       "      <td>1605.060819</td>\n",
       "      <td>0.301568</td>\n",
       "    </tr>\n",
       "    <tr>\n",
       "      <td>1</td>\n",
       "      <td>546.150291</td>\n",
       "      <td>24.906256</td>\n",
       "      <td>121.623419</td>\n",
       "      <td>2785.807744</td>\n",
       "      <td>0.303489</td>\n",
       "    </tr>\n",
       "  </tbody>\n",
       "</table>\n",
       "</div>"
      ],
      "text/plain": [
       "      Temperature   Pressure  Feed Flow rate  Coolant Flow rate  \\\n",
       "Test                                                              \n",
       "0      547.634964  26.320747      129.829783        1605.060819   \n",
       "1      546.150291  24.906256      121.623419        2785.807744   \n",
       "\n",
       "      Inlet reactant concentration  \n",
       "Test                                \n",
       "0                         0.301568  \n",
       "1                         0.303489  "
      ]
     },
     "execution_count": 10,
     "metadata": {},
     "output_type": "execute_result"
    }
   ],
   "source": [
    "df.groupby('Test').mean()   "
   ]
  },
  {
   "cell_type": "markdown",
   "metadata": {},
   "source": [
    "### Defining training and testing data"
   ]
  },
  {
   "cell_type": "code",
   "execution_count": 11,
   "metadata": {},
   "outputs": [],
   "source": [
    "train_data = df[:700]\n",
    "test_data = df[700:]"
   ]
  },
  {
   "cell_type": "code",
   "execution_count": 12,
   "metadata": {},
   "outputs": [
    {
     "data": {
      "text/html": [
       "<div>\n",
       "<style scoped>\n",
       "    .dataframe tbody tr th:only-of-type {\n",
       "        vertical-align: middle;\n",
       "    }\n",
       "\n",
       "    .dataframe tbody tr th {\n",
       "        vertical-align: top;\n",
       "    }\n",
       "\n",
       "    .dataframe thead th {\n",
       "        text-align: right;\n",
       "    }\n",
       "</style>\n",
       "<table border=\"1\" class=\"dataframe\">\n",
       "  <thead>\n",
       "    <tr style=\"text-align: right;\">\n",
       "      <th></th>\n",
       "      <th>Temperature</th>\n",
       "      <th>Pressure</th>\n",
       "      <th>Feed Flow rate</th>\n",
       "      <th>Coolant Flow rate</th>\n",
       "      <th>Inlet reactant concentration</th>\n",
       "      <th>Test</th>\n",
       "    </tr>\n",
       "  </thead>\n",
       "  <tbody>\n",
       "    <tr>\n",
       "      <td>count</td>\n",
       "      <td>700.000000</td>\n",
       "      <td>700.000000</td>\n",
       "      <td>700.000000</td>\n",
       "      <td>700.000000</td>\n",
       "      <td>700.000000</td>\n",
       "      <td>700.000000</td>\n",
       "    </tr>\n",
       "    <tr>\n",
       "      <td>mean</td>\n",
       "      <td>546.335771</td>\n",
       "      <td>25.297943</td>\n",
       "      <td>124.561600</td>\n",
       "      <td>2267.438900</td>\n",
       "      <td>0.299250</td>\n",
       "      <td>0.568571</td>\n",
       "    </tr>\n",
       "    <tr>\n",
       "      <td>std</td>\n",
       "      <td>87.246427</td>\n",
       "      <td>14.279063</td>\n",
       "      <td>42.886222</td>\n",
       "      <td>762.900877</td>\n",
       "      <td>0.114895</td>\n",
       "      <td>0.495630</td>\n",
       "    </tr>\n",
       "    <tr>\n",
       "      <td>min</td>\n",
       "      <td>400.310000</td>\n",
       "      <td>1.190000</td>\n",
       "      <td>50.030000</td>\n",
       "      <td>1002.530000</td>\n",
       "      <td>0.100300</td>\n",
       "      <td>0.000000</td>\n",
       "    </tr>\n",
       "    <tr>\n",
       "      <td>25%</td>\n",
       "      <td>466.757500</td>\n",
       "      <td>12.670000</td>\n",
       "      <td>89.170000</td>\n",
       "      <td>1611.775000</td>\n",
       "      <td>0.196200</td>\n",
       "      <td>0.000000</td>\n",
       "    </tr>\n",
       "    <tr>\n",
       "      <td>50%</td>\n",
       "      <td>547.945000</td>\n",
       "      <td>24.830000</td>\n",
       "      <td>122.945000</td>\n",
       "      <td>2203.135000</td>\n",
       "      <td>0.304100</td>\n",
       "      <td>1.000000</td>\n",
       "    </tr>\n",
       "    <tr>\n",
       "      <td>75%</td>\n",
       "      <td>616.622500</td>\n",
       "      <td>38.017500</td>\n",
       "      <td>161.285000</td>\n",
       "      <td>2958.845000</td>\n",
       "      <td>0.397525</td>\n",
       "      <td>1.000000</td>\n",
       "    </tr>\n",
       "    <tr>\n",
       "      <td>max</td>\n",
       "      <td>699.870000</td>\n",
       "      <td>49.890000</td>\n",
       "      <td>199.960000</td>\n",
       "      <td>3595.620000</td>\n",
       "      <td>0.499600</td>\n",
       "      <td>1.000000</td>\n",
       "    </tr>\n",
       "  </tbody>\n",
       "</table>\n",
       "</div>"
      ],
      "text/plain": [
       "       Temperature    Pressure  Feed Flow rate  Coolant Flow rate  \\\n",
       "count   700.000000  700.000000      700.000000         700.000000   \n",
       "mean    546.335771   25.297943      124.561600        2267.438900   \n",
       "std      87.246427   14.279063       42.886222         762.900877   \n",
       "min     400.310000    1.190000       50.030000        1002.530000   \n",
       "25%     466.757500   12.670000       89.170000        1611.775000   \n",
       "50%     547.945000   24.830000      122.945000        2203.135000   \n",
       "75%     616.622500   38.017500      161.285000        2958.845000   \n",
       "max     699.870000   49.890000      199.960000        3595.620000   \n",
       "\n",
       "       Inlet reactant concentration        Test  \n",
       "count                    700.000000  700.000000  \n",
       "mean                       0.299250    0.568571  \n",
       "std                        0.114895    0.495630  \n",
       "min                        0.100300    0.000000  \n",
       "25%                        0.196200    0.000000  \n",
       "50%                        0.304100    1.000000  \n",
       "75%                        0.397525    1.000000  \n",
       "max                        0.499600    1.000000  "
      ]
     },
     "execution_count": 12,
     "metadata": {},
     "output_type": "execute_result"
    }
   ],
   "source": [
    "train_data.describe()"
   ]
  },
  {
   "cell_type": "code",
   "execution_count": 13,
   "metadata": {},
   "outputs": [
    {
     "data": {
      "text/html": [
       "<div>\n",
       "<style scoped>\n",
       "    .dataframe tbody tr th:only-of-type {\n",
       "        vertical-align: middle;\n",
       "    }\n",
       "\n",
       "    .dataframe tbody tr th {\n",
       "        vertical-align: top;\n",
       "    }\n",
       "\n",
       "    .dataframe thead th {\n",
       "        text-align: right;\n",
       "    }\n",
       "</style>\n",
       "<table border=\"1\" class=\"dataframe\">\n",
       "  <thead>\n",
       "    <tr style=\"text-align: right;\">\n",
       "      <th></th>\n",
       "      <th>Temperature</th>\n",
       "      <th>Pressure</th>\n",
       "      <th>Feed Flow rate</th>\n",
       "      <th>Coolant Flow rate</th>\n",
       "      <th>Inlet reactant concentration</th>\n",
       "      <th>Test</th>\n",
       "    </tr>\n",
       "  </thead>\n",
       "  <tbody>\n",
       "    <tr>\n",
       "      <td>count</td>\n",
       "      <td>300.000000</td>\n",
       "      <td>300.000000</td>\n",
       "      <td>300.000000</td>\n",
       "      <td>300.000000</td>\n",
       "      <td>300.000000</td>\n",
       "      <td>300.000000</td>\n",
       "    </tr>\n",
       "    <tr>\n",
       "      <td>mean</td>\n",
       "      <td>547.771300</td>\n",
       "      <td>25.949033</td>\n",
       "      <td>126.119800</td>\n",
       "      <td>2361.968467</td>\n",
       "      <td>0.310724</td>\n",
       "      <td>0.623333</td>\n",
       "    </tr>\n",
       "    <tr>\n",
       "      <td>std</td>\n",
       "      <td>86.083982</td>\n",
       "      <td>14.203337</td>\n",
       "      <td>44.979991</td>\n",
       "      <td>762.669920</td>\n",
       "      <td>0.118547</td>\n",
       "      <td>0.485360</td>\n",
       "    </tr>\n",
       "    <tr>\n",
       "      <td>min</td>\n",
       "      <td>400.470000</td>\n",
       "      <td>1.060000</td>\n",
       "      <td>51.010000</td>\n",
       "      <td>1016.740000</td>\n",
       "      <td>0.100300</td>\n",
       "      <td>0.000000</td>\n",
       "    </tr>\n",
       "    <tr>\n",
       "      <td>25%</td>\n",
       "      <td>476.092500</td>\n",
       "      <td>13.400000</td>\n",
       "      <td>85.887500</td>\n",
       "      <td>1705.002500</td>\n",
       "      <td>0.208075</td>\n",
       "      <td>0.000000</td>\n",
       "    </tr>\n",
       "    <tr>\n",
       "      <td>50%</td>\n",
       "      <td>537.355000</td>\n",
       "      <td>26.430000</td>\n",
       "      <td>129.705000</td>\n",
       "      <td>2415.425000</td>\n",
       "      <td>0.322100</td>\n",
       "      <td>1.000000</td>\n",
       "    </tr>\n",
       "    <tr>\n",
       "      <td>75%</td>\n",
       "      <td>621.695000</td>\n",
       "      <td>37.647500</td>\n",
       "      <td>166.055000</td>\n",
       "      <td>3048.412500</td>\n",
       "      <td>0.415100</td>\n",
       "      <td>1.000000</td>\n",
       "    </tr>\n",
       "    <tr>\n",
       "      <td>max</td>\n",
       "      <td>698.230000</td>\n",
       "      <td>49.790000</td>\n",
       "      <td>199.910000</td>\n",
       "      <td>3587.690000</td>\n",
       "      <td>0.499400</td>\n",
       "      <td>1.000000</td>\n",
       "    </tr>\n",
       "  </tbody>\n",
       "</table>\n",
       "</div>"
      ],
      "text/plain": [
       "       Temperature    Pressure  Feed Flow rate  Coolant Flow rate  \\\n",
       "count   300.000000  300.000000      300.000000         300.000000   \n",
       "mean    547.771300   25.949033      126.119800        2361.968467   \n",
       "std      86.083982   14.203337       44.979991         762.669920   \n",
       "min     400.470000    1.060000       51.010000        1016.740000   \n",
       "25%     476.092500   13.400000       85.887500        1705.002500   \n",
       "50%     537.355000   26.430000      129.705000        2415.425000   \n",
       "75%     621.695000   37.647500      166.055000        3048.412500   \n",
       "max     698.230000   49.790000      199.910000        3587.690000   \n",
       "\n",
       "       Inlet reactant concentration        Test  \n",
       "count                    300.000000  300.000000  \n",
       "mean                       0.310724    0.623333  \n",
       "std                        0.118547    0.485360  \n",
       "min                        0.100300    0.000000  \n",
       "25%                        0.208075    0.000000  \n",
       "50%                        0.322100    1.000000  \n",
       "75%                        0.415100    1.000000  \n",
       "max                        0.499400    1.000000  "
      ]
     },
     "execution_count": 13,
     "metadata": {},
     "output_type": "execute_result"
    }
   ],
   "source": [
    "test_data.describe()"
   ]
  },
  {
   "cell_type": "code",
   "execution_count": 14,
   "metadata": {},
   "outputs": [
    {
     "data": {
      "text/html": [
       "<div>\n",
       "<style scoped>\n",
       "    .dataframe tbody tr th:only-of-type {\n",
       "        vertical-align: middle;\n",
       "    }\n",
       "\n",
       "    .dataframe tbody tr th {\n",
       "        vertical-align: top;\n",
       "    }\n",
       "\n",
       "    .dataframe thead th {\n",
       "        text-align: right;\n",
       "    }\n",
       "</style>\n",
       "<table border=\"1\" class=\"dataframe\">\n",
       "  <thead>\n",
       "    <tr style=\"text-align: right;\">\n",
       "      <th></th>\n",
       "      <th>Temperature</th>\n",
       "      <th>Pressure</th>\n",
       "      <th>Feed Flow rate</th>\n",
       "      <th>Coolant Flow rate</th>\n",
       "      <th>Inlet reactant concentration</th>\n",
       "    </tr>\n",
       "    <tr>\n",
       "      <th>Test</th>\n",
       "      <th></th>\n",
       "      <th></th>\n",
       "      <th></th>\n",
       "      <th></th>\n",
       "      <th></th>\n",
       "    </tr>\n",
       "  </thead>\n",
       "  <tbody>\n",
       "    <tr>\n",
       "      <td>0</td>\n",
       "      <td>547.893974</td>\n",
       "      <td>27.032219</td>\n",
       "      <td>130.071755</td>\n",
       "      <td>1602.121060</td>\n",
       "      <td>0.298199</td>\n",
       "    </tr>\n",
       "    <tr>\n",
       "      <td>1</td>\n",
       "      <td>545.153417</td>\n",
       "      <td>23.981985</td>\n",
       "      <td>120.380528</td>\n",
       "      <td>2772.278065</td>\n",
       "      <td>0.300047</td>\n",
       "    </tr>\n",
       "  </tbody>\n",
       "</table>\n",
       "</div>"
      ],
      "text/plain": [
       "      Temperature   Pressure  Feed Flow rate  Coolant Flow rate  \\\n",
       "Test                                                              \n",
       "0      547.893974  27.032219      130.071755        1602.121060   \n",
       "1      545.153417  23.981985      120.380528        2772.278065   \n",
       "\n",
       "      Inlet reactant concentration  \n",
       "Test                                \n",
       "0                         0.298199  \n",
       "1                         0.300047  "
      ]
     },
     "execution_count": 14,
     "metadata": {},
     "output_type": "execute_result"
    }
   ],
   "source": [
    "train_data.groupby('Test').mean()    "
   ]
  },
  {
   "cell_type": "markdown",
   "metadata": {},
   "source": [
    "### Splitting training and testing data into respective input and output data"
   ]
  },
  {
   "cell_type": "code",
   "execution_count": 17,
   "metadata": {},
   "outputs": [],
   "source": [
    "X_train = train_data.drop('Test', axis = 1)\n",
    "X_test = test_data.drop('Test', axis = 1).reset_index(drop = True)"
   ]
  },
  {
   "cell_type": "code",
   "execution_count": 18,
   "metadata": {},
   "outputs": [],
   "source": [
    "y_train = train_data['Test']\n",
    "y_test = test_data['Test'].reset_index(drop = True)"
   ]
  },
  {
   "cell_type": "code",
   "execution_count": 19,
   "metadata": {},
   "outputs": [
    {
     "data": {
      "text/html": [
       "<div>\n",
       "<style scoped>\n",
       "    .dataframe tbody tr th:only-of-type {\n",
       "        vertical-align: middle;\n",
       "    }\n",
       "\n",
       "    .dataframe tbody tr th {\n",
       "        vertical-align: top;\n",
       "    }\n",
       "\n",
       "    .dataframe thead th {\n",
       "        text-align: right;\n",
       "    }\n",
       "</style>\n",
       "<table border=\"1\" class=\"dataframe\">\n",
       "  <thead>\n",
       "    <tr style=\"text-align: right;\">\n",
       "      <th></th>\n",
       "      <th>Temperature</th>\n",
       "      <th>Pressure</th>\n",
       "      <th>Feed Flow rate</th>\n",
       "      <th>Coolant Flow rate</th>\n",
       "      <th>Inlet reactant concentration</th>\n",
       "    </tr>\n",
       "  </thead>\n",
       "  <tbody>\n",
       "    <tr>\n",
       "      <td>0</td>\n",
       "      <td>470.82</td>\n",
       "      <td>4.77</td>\n",
       "      <td>105.06</td>\n",
       "      <td>2794.45</td>\n",
       "      <td>0.1773</td>\n",
       "    </tr>\n",
       "    <tr>\n",
       "      <td>1</td>\n",
       "      <td>468.37</td>\n",
       "      <td>17.90</td>\n",
       "      <td>142.48</td>\n",
       "      <td>1895.52</td>\n",
       "      <td>0.1338</td>\n",
       "    </tr>\n",
       "    <tr>\n",
       "      <td>2</td>\n",
       "      <td>538.67</td>\n",
       "      <td>27.33</td>\n",
       "      <td>62.59</td>\n",
       "      <td>3560.30</td>\n",
       "      <td>0.1336</td>\n",
       "    </tr>\n",
       "    <tr>\n",
       "      <td>3</td>\n",
       "      <td>439.18</td>\n",
       "      <td>8.69</td>\n",
       "      <td>175.98</td>\n",
       "      <td>1474.19</td>\n",
       "      <td>0.2112</td>\n",
       "    </tr>\n",
       "    <tr>\n",
       "      <td>4</td>\n",
       "      <td>475.98</td>\n",
       "      <td>24.60</td>\n",
       "      <td>156.80</td>\n",
       "      <td>1696.70</td>\n",
       "      <td>0.3957</td>\n",
       "    </tr>\n",
       "    <tr>\n",
       "      <td>...</td>\n",
       "      <td>...</td>\n",
       "      <td>...</td>\n",
       "      <td>...</td>\n",
       "      <td>...</td>\n",
       "      <td>...</td>\n",
       "    </tr>\n",
       "    <tr>\n",
       "      <td>295</td>\n",
       "      <td>552.31</td>\n",
       "      <td>11.79</td>\n",
       "      <td>139.23</td>\n",
       "      <td>1624.75</td>\n",
       "      <td>0.2836</td>\n",
       "    </tr>\n",
       "    <tr>\n",
       "      <td>296</td>\n",
       "      <td>567.23</td>\n",
       "      <td>49.01</td>\n",
       "      <td>87.39</td>\n",
       "      <td>2826.88</td>\n",
       "      <td>0.3608</td>\n",
       "    </tr>\n",
       "    <tr>\n",
       "      <td>297</td>\n",
       "      <td>683.73</td>\n",
       "      <td>40.08</td>\n",
       "      <td>97.00</td>\n",
       "      <td>2145.20</td>\n",
       "      <td>0.2336</td>\n",
       "    </tr>\n",
       "    <tr>\n",
       "      <td>298</td>\n",
       "      <td>613.10</td>\n",
       "      <td>34.13</td>\n",
       "      <td>163.23</td>\n",
       "      <td>3172.04</td>\n",
       "      <td>0.3601</td>\n",
       "    </tr>\n",
       "    <tr>\n",
       "      <td>299</td>\n",
       "      <td>479.27</td>\n",
       "      <td>17.44</td>\n",
       "      <td>89.19</td>\n",
       "      <td>1364.39</td>\n",
       "      <td>0.4240</td>\n",
       "    </tr>\n",
       "  </tbody>\n",
       "</table>\n",
       "<p>300 rows × 5 columns</p>\n",
       "</div>"
      ],
      "text/plain": [
       "     Temperature  Pressure  Feed Flow rate  Coolant Flow rate  \\\n",
       "0         470.82      4.77          105.06            2794.45   \n",
       "1         468.37     17.90          142.48            1895.52   \n",
       "2         538.67     27.33           62.59            3560.30   \n",
       "3         439.18      8.69          175.98            1474.19   \n",
       "4         475.98     24.60          156.80            1696.70   \n",
       "..           ...       ...             ...                ...   \n",
       "295       552.31     11.79          139.23            1624.75   \n",
       "296       567.23     49.01           87.39            2826.88   \n",
       "297       683.73     40.08           97.00            2145.20   \n",
       "298       613.10     34.13          163.23            3172.04   \n",
       "299       479.27     17.44           89.19            1364.39   \n",
       "\n",
       "     Inlet reactant concentration  \n",
       "0                          0.1773  \n",
       "1                          0.1338  \n",
       "2                          0.1336  \n",
       "3                          0.2112  \n",
       "4                          0.3957  \n",
       "..                            ...  \n",
       "295                        0.2836  \n",
       "296                        0.3608  \n",
       "297                        0.2336  \n",
       "298                        0.3601  \n",
       "299                        0.4240  \n",
       "\n",
       "[300 rows x 5 columns]"
      ]
     },
     "execution_count": 19,
     "metadata": {},
     "output_type": "execute_result"
    }
   ],
   "source": [
    "X_test"
   ]
  },
  {
   "cell_type": "code",
   "execution_count": 20,
   "metadata": {},
   "outputs": [],
   "source": [
    "#min-max normalisation\n",
    "X_train = (X_train - X_train.min())/(X_train.max()- X_train.min())\n",
    "X_test = (X_test - X_test.min())/(X_test.max()- X_test.min())"
   ]
  },
  {
   "cell_type": "code",
   "execution_count": 21,
   "metadata": {},
   "outputs": [
    {
     "data": {
      "text/html": [
       "<div>\n",
       "<style scoped>\n",
       "    .dataframe tbody tr th:only-of-type {\n",
       "        vertical-align: middle;\n",
       "    }\n",
       "\n",
       "    .dataframe tbody tr th {\n",
       "        vertical-align: top;\n",
       "    }\n",
       "\n",
       "    .dataframe thead th {\n",
       "        text-align: right;\n",
       "    }\n",
       "</style>\n",
       "<table border=\"1\" class=\"dataframe\">\n",
       "  <thead>\n",
       "    <tr style=\"text-align: right;\">\n",
       "      <th></th>\n",
       "      <th>Temperature</th>\n",
       "      <th>Pressure</th>\n",
       "      <th>Feed Flow rate</th>\n",
       "      <th>Coolant Flow rate</th>\n",
       "      <th>Inlet reactant concentration</th>\n",
       "    </tr>\n",
       "  </thead>\n",
       "  <tbody>\n",
       "    <tr>\n",
       "      <td>0</td>\n",
       "      <td>0.236264</td>\n",
       "      <td>0.076134</td>\n",
       "      <td>0.362995</td>\n",
       "      <td>0.691460</td>\n",
       "      <td>0.192934</td>\n",
       "    </tr>\n",
       "    <tr>\n",
       "      <td>1</td>\n",
       "      <td>0.228036</td>\n",
       "      <td>0.345578</td>\n",
       "      <td>0.614305</td>\n",
       "      <td>0.341811</td>\n",
       "      <td>0.083939</td>\n",
       "    </tr>\n",
       "    <tr>\n",
       "      <td>2</td>\n",
       "      <td>0.464132</td>\n",
       "      <td>0.539093</td>\n",
       "      <td>0.077770</td>\n",
       "      <td>0.989346</td>\n",
       "      <td>0.083438</td>\n",
       "    </tr>\n",
       "    <tr>\n",
       "      <td>3</td>\n",
       "      <td>0.130004</td>\n",
       "      <td>0.156577</td>\n",
       "      <td>0.839288</td>\n",
       "      <td>0.177930</td>\n",
       "      <td>0.277875</td>\n",
       "    </tr>\n",
       "    <tr>\n",
       "      <td>4</td>\n",
       "      <td>0.253593</td>\n",
       "      <td>0.483070</td>\n",
       "      <td>0.710477</td>\n",
       "      <td>0.264478</td>\n",
       "      <td>0.740165</td>\n",
       "    </tr>\n",
       "    <tr>\n",
       "      <td>...</td>\n",
       "      <td>...</td>\n",
       "      <td>...</td>\n",
       "      <td>...</td>\n",
       "      <td>...</td>\n",
       "      <td>...</td>\n",
       "    </tr>\n",
       "    <tr>\n",
       "      <td>295</td>\n",
       "      <td>0.509941</td>\n",
       "      <td>0.220193</td>\n",
       "      <td>0.592478</td>\n",
       "      <td>0.236492</td>\n",
       "      <td>0.459283</td>\n",
       "    </tr>\n",
       "    <tr>\n",
       "      <td>296</td>\n",
       "      <td>0.560048</td>\n",
       "      <td>0.983993</td>\n",
       "      <td>0.244325</td>\n",
       "      <td>0.704074</td>\n",
       "      <td>0.652719</td>\n",
       "    </tr>\n",
       "    <tr>\n",
       "      <td>297</td>\n",
       "      <td>0.951303</td>\n",
       "      <td>0.800739</td>\n",
       "      <td>0.308865</td>\n",
       "      <td>0.438927</td>\n",
       "      <td>0.334002</td>\n",
       "    </tr>\n",
       "    <tr>\n",
       "      <td>298</td>\n",
       "      <td>0.714099</td>\n",
       "      <td>0.678637</td>\n",
       "      <td>0.753660</td>\n",
       "      <td>0.838328</td>\n",
       "      <td>0.650965</td>\n",
       "    </tr>\n",
       "    <tr>\n",
       "      <td>299</td>\n",
       "      <td>0.264643</td>\n",
       "      <td>0.336138</td>\n",
       "      <td>0.256414</td>\n",
       "      <td>0.135222</td>\n",
       "      <td>0.811075</td>\n",
       "    </tr>\n",
       "  </tbody>\n",
       "</table>\n",
       "<p>300 rows × 5 columns</p>\n",
       "</div>"
      ],
      "text/plain": [
       "     Temperature  Pressure  Feed Flow rate  Coolant Flow rate  \\\n",
       "0       0.236264  0.076134        0.362995           0.691460   \n",
       "1       0.228036  0.345578        0.614305           0.341811   \n",
       "2       0.464132  0.539093        0.077770           0.989346   \n",
       "3       0.130004  0.156577        0.839288           0.177930   \n",
       "4       0.253593  0.483070        0.710477           0.264478   \n",
       "..           ...       ...             ...                ...   \n",
       "295     0.509941  0.220193        0.592478           0.236492   \n",
       "296     0.560048  0.983993        0.244325           0.704074   \n",
       "297     0.951303  0.800739        0.308865           0.438927   \n",
       "298     0.714099  0.678637        0.753660           0.838328   \n",
       "299     0.264643  0.336138        0.256414           0.135222   \n",
       "\n",
       "     Inlet reactant concentration  \n",
       "0                        0.192934  \n",
       "1                        0.083939  \n",
       "2                        0.083438  \n",
       "3                        0.277875  \n",
       "4                        0.740165  \n",
       "..                            ...  \n",
       "295                      0.459283  \n",
       "296                      0.652719  \n",
       "297                      0.334002  \n",
       "298                      0.650965  \n",
       "299                      0.811075  \n",
       "\n",
       "[300 rows x 5 columns]"
      ]
     },
     "execution_count": 21,
     "metadata": {},
     "output_type": "execute_result"
    }
   ],
   "source": [
    "X_test"
   ]
  },
  {
   "cell_type": "markdown",
   "metadata": {},
   "source": [
    "### Addding the intercept column to X_train and X_test"
   ]
  },
  {
   "cell_type": "code",
   "execution_count": 22,
   "metadata": {},
   "outputs": [],
   "source": [
    "array_ones_train = pd.DataFrame(data = np.ones(shape = [X_train.shape[0], 1]), columns = ['Intercept'])\n",
    "array_ones_test = pd.DataFrame(data = np.ones(shape = [X_test.shape[0], 1]), columns = ['Intercept'])"
   ]
  },
  {
   "cell_type": "code",
   "execution_count": 23,
   "metadata": {},
   "outputs": [
    {
     "data": {
      "text/html": [
       "<div>\n",
       "<style scoped>\n",
       "    .dataframe tbody tr th:only-of-type {\n",
       "        vertical-align: middle;\n",
       "    }\n",
       "\n",
       "    .dataframe tbody tr th {\n",
       "        vertical-align: top;\n",
       "    }\n",
       "\n",
       "    .dataframe thead th {\n",
       "        text-align: right;\n",
       "    }\n",
       "</style>\n",
       "<table border=\"1\" class=\"dataframe\">\n",
       "  <thead>\n",
       "    <tr style=\"text-align: right;\">\n",
       "      <th></th>\n",
       "      <th>Intercept</th>\n",
       "    </tr>\n",
       "  </thead>\n",
       "  <tbody>\n",
       "    <tr>\n",
       "      <td>0</td>\n",
       "      <td>1.0</td>\n",
       "    </tr>\n",
       "    <tr>\n",
       "      <td>1</td>\n",
       "      <td>1.0</td>\n",
       "    </tr>\n",
       "    <tr>\n",
       "      <td>2</td>\n",
       "      <td>1.0</td>\n",
       "    </tr>\n",
       "    <tr>\n",
       "      <td>3</td>\n",
       "      <td>1.0</td>\n",
       "    </tr>\n",
       "    <tr>\n",
       "      <td>4</td>\n",
       "      <td>1.0</td>\n",
       "    </tr>\n",
       "    <tr>\n",
       "      <td>...</td>\n",
       "      <td>...</td>\n",
       "    </tr>\n",
       "    <tr>\n",
       "      <td>295</td>\n",
       "      <td>1.0</td>\n",
       "    </tr>\n",
       "    <tr>\n",
       "      <td>296</td>\n",
       "      <td>1.0</td>\n",
       "    </tr>\n",
       "    <tr>\n",
       "      <td>297</td>\n",
       "      <td>1.0</td>\n",
       "    </tr>\n",
       "    <tr>\n",
       "      <td>298</td>\n",
       "      <td>1.0</td>\n",
       "    </tr>\n",
       "    <tr>\n",
       "      <td>299</td>\n",
       "      <td>1.0</td>\n",
       "    </tr>\n",
       "  </tbody>\n",
       "</table>\n",
       "<p>300 rows × 1 columns</p>\n",
       "</div>"
      ],
      "text/plain": [
       "     Intercept\n",
       "0          1.0\n",
       "1          1.0\n",
       "2          1.0\n",
       "3          1.0\n",
       "4          1.0\n",
       "..         ...\n",
       "295        1.0\n",
       "296        1.0\n",
       "297        1.0\n",
       "298        1.0\n",
       "299        1.0\n",
       "\n",
       "[300 rows x 1 columns]"
      ]
     },
     "execution_count": 23,
     "metadata": {},
     "output_type": "execute_result"
    }
   ],
   "source": [
    "array_ones_test"
   ]
  },
  {
   "cell_type": "code",
   "execution_count": 24,
   "metadata": {},
   "outputs": [],
   "source": [
    "X_train = pd.concat([array_ones_train, X_train], axis = 1)\n",
    "X_test = pd.concat([array_ones_test, X_test], axis = 1)"
   ]
  },
  {
   "cell_type": "code",
   "execution_count": 25,
   "metadata": {},
   "outputs": [
    {
     "data": {
      "text/html": [
       "<div>\n",
       "<style scoped>\n",
       "    .dataframe tbody tr th:only-of-type {\n",
       "        vertical-align: middle;\n",
       "    }\n",
       "\n",
       "    .dataframe tbody tr th {\n",
       "        vertical-align: top;\n",
       "    }\n",
       "\n",
       "    .dataframe thead th {\n",
       "        text-align: right;\n",
       "    }\n",
       "</style>\n",
       "<table border=\"1\" class=\"dataframe\">\n",
       "  <thead>\n",
       "    <tr style=\"text-align: right;\">\n",
       "      <th></th>\n",
       "      <th>Intercept</th>\n",
       "      <th>Temperature</th>\n",
       "      <th>Pressure</th>\n",
       "      <th>Feed Flow rate</th>\n",
       "      <th>Coolant Flow rate</th>\n",
       "      <th>Inlet reactant concentration</th>\n",
       "    </tr>\n",
       "  </thead>\n",
       "  <tbody>\n",
       "    <tr>\n",
       "      <td>0</td>\n",
       "      <td>1.0</td>\n",
       "      <td>0.021865</td>\n",
       "      <td>0.338193</td>\n",
       "      <td>0.478890</td>\n",
       "      <td>0.426777</td>\n",
       "      <td>0.007513</td>\n",
       "    </tr>\n",
       "    <tr>\n",
       "      <td>1</td>\n",
       "      <td>1.0</td>\n",
       "      <td>0.978368</td>\n",
       "      <td>0.481930</td>\n",
       "      <td>0.554592</td>\n",
       "      <td>0.823894</td>\n",
       "      <td>0.696719</td>\n",
       "    </tr>\n",
       "    <tr>\n",
       "      <td>2</td>\n",
       "      <td>1.0</td>\n",
       "      <td>0.409901</td>\n",
       "      <td>0.452567</td>\n",
       "      <td>0.643767</td>\n",
       "      <td>0.021484</td>\n",
       "      <td>0.950664</td>\n",
       "    </tr>\n",
       "    <tr>\n",
       "      <td>3</td>\n",
       "      <td>1.0</td>\n",
       "      <td>0.709541</td>\n",
       "      <td>0.816838</td>\n",
       "      <td>0.296205</td>\n",
       "      <td>0.124404</td>\n",
       "      <td>0.536940</td>\n",
       "    </tr>\n",
       "    <tr>\n",
       "      <td>4</td>\n",
       "      <td>1.0</td>\n",
       "      <td>0.333723</td>\n",
       "      <td>0.744353</td>\n",
       "      <td>0.903422</td>\n",
       "      <td>0.567655</td>\n",
       "      <td>0.320811</td>\n",
       "    </tr>\n",
       "    <tr>\n",
       "      <td>...</td>\n",
       "      <td>...</td>\n",
       "      <td>...</td>\n",
       "      <td>...</td>\n",
       "      <td>...</td>\n",
       "      <td>...</td>\n",
       "      <td>...</td>\n",
       "    </tr>\n",
       "    <tr>\n",
       "      <td>695</td>\n",
       "      <td>1.0</td>\n",
       "      <td>0.274703</td>\n",
       "      <td>0.462423</td>\n",
       "      <td>0.000534</td>\n",
       "      <td>0.231816</td>\n",
       "      <td>0.692712</td>\n",
       "    </tr>\n",
       "    <tr>\n",
       "      <td>696</td>\n",
       "      <td>1.0</td>\n",
       "      <td>0.563493</td>\n",
       "      <td>0.308830</td>\n",
       "      <td>0.287534</td>\n",
       "      <td>0.015333</td>\n",
       "      <td>0.414976</td>\n",
       "    </tr>\n",
       "    <tr>\n",
       "      <td>697</td>\n",
       "      <td>1.0</td>\n",
       "      <td>0.322506</td>\n",
       "      <td>0.477618</td>\n",
       "      <td>0.881745</td>\n",
       "      <td>0.498822</td>\n",
       "      <td>0.978713</td>\n",
       "    </tr>\n",
       "    <tr>\n",
       "      <td>698</td>\n",
       "      <td>1.0</td>\n",
       "      <td>0.232508</td>\n",
       "      <td>0.078645</td>\n",
       "      <td>0.332422</td>\n",
       "      <td>0.930982</td>\n",
       "      <td>0.159028</td>\n",
       "    </tr>\n",
       "    <tr>\n",
       "      <td>699</td>\n",
       "      <td>1.0</td>\n",
       "      <td>0.475731</td>\n",
       "      <td>0.820329</td>\n",
       "      <td>0.061562</td>\n",
       "      <td>0.919374</td>\n",
       "      <td>0.692712</td>\n",
       "    </tr>\n",
       "  </tbody>\n",
       "</table>\n",
       "<p>700 rows × 6 columns</p>\n",
       "</div>"
      ],
      "text/plain": [
       "     Intercept  Temperature  Pressure  Feed Flow rate  Coolant Flow rate  \\\n",
       "0          1.0     0.021865  0.338193        0.478890           0.426777   \n",
       "1          1.0     0.978368  0.481930        0.554592           0.823894   \n",
       "2          1.0     0.409901  0.452567        0.643767           0.021484   \n",
       "3          1.0     0.709541  0.816838        0.296205           0.124404   \n",
       "4          1.0     0.333723  0.744353        0.903422           0.567655   \n",
       "..         ...          ...       ...             ...                ...   \n",
       "695        1.0     0.274703  0.462423        0.000534           0.231816   \n",
       "696        1.0     0.563493  0.308830        0.287534           0.015333   \n",
       "697        1.0     0.322506  0.477618        0.881745           0.498822   \n",
       "698        1.0     0.232508  0.078645        0.332422           0.930982   \n",
       "699        1.0     0.475731  0.820329        0.061562           0.919374   \n",
       "\n",
       "     Inlet reactant concentration  \n",
       "0                        0.007513  \n",
       "1                        0.696719  \n",
       "2                        0.950664  \n",
       "3                        0.536940  \n",
       "4                        0.320811  \n",
       "..                            ...  \n",
       "695                      0.692712  \n",
       "696                      0.414976  \n",
       "697                      0.978713  \n",
       "698                      0.159028  \n",
       "699                      0.692712  \n",
       "\n",
       "[700 rows x 6 columns]"
      ]
     },
     "execution_count": 25,
     "metadata": {},
     "output_type": "execute_result"
    }
   ],
   "source": [
    "X_train"
   ]
  },
  {
   "cell_type": "code",
   "execution_count": 26,
   "metadata": {},
   "outputs": [
    {
     "data": {
      "text/html": [
       "<div>\n",
       "<style scoped>\n",
       "    .dataframe tbody tr th:only-of-type {\n",
       "        vertical-align: middle;\n",
       "    }\n",
       "\n",
       "    .dataframe tbody tr th {\n",
       "        vertical-align: top;\n",
       "    }\n",
       "\n",
       "    .dataframe thead th {\n",
       "        text-align: right;\n",
       "    }\n",
       "</style>\n",
       "<table border=\"1\" class=\"dataframe\">\n",
       "  <thead>\n",
       "    <tr style=\"text-align: right;\">\n",
       "      <th></th>\n",
       "      <th>Intercept</th>\n",
       "      <th>Temperature</th>\n",
       "      <th>Pressure</th>\n",
       "      <th>Feed Flow rate</th>\n",
       "      <th>Coolant Flow rate</th>\n",
       "      <th>Inlet reactant concentration</th>\n",
       "    </tr>\n",
       "  </thead>\n",
       "  <tbody>\n",
       "    <tr>\n",
       "      <td>0</td>\n",
       "      <td>1.0</td>\n",
       "      <td>0.236264</td>\n",
       "      <td>0.076134</td>\n",
       "      <td>0.362995</td>\n",
       "      <td>0.691460</td>\n",
       "      <td>0.192934</td>\n",
       "    </tr>\n",
       "    <tr>\n",
       "      <td>1</td>\n",
       "      <td>1.0</td>\n",
       "      <td>0.228036</td>\n",
       "      <td>0.345578</td>\n",
       "      <td>0.614305</td>\n",
       "      <td>0.341811</td>\n",
       "      <td>0.083939</td>\n",
       "    </tr>\n",
       "    <tr>\n",
       "      <td>2</td>\n",
       "      <td>1.0</td>\n",
       "      <td>0.464132</td>\n",
       "      <td>0.539093</td>\n",
       "      <td>0.077770</td>\n",
       "      <td>0.989346</td>\n",
       "      <td>0.083438</td>\n",
       "    </tr>\n",
       "    <tr>\n",
       "      <td>3</td>\n",
       "      <td>1.0</td>\n",
       "      <td>0.130004</td>\n",
       "      <td>0.156577</td>\n",
       "      <td>0.839288</td>\n",
       "      <td>0.177930</td>\n",
       "      <td>0.277875</td>\n",
       "    </tr>\n",
       "    <tr>\n",
       "      <td>4</td>\n",
       "      <td>1.0</td>\n",
       "      <td>0.253593</td>\n",
       "      <td>0.483070</td>\n",
       "      <td>0.710477</td>\n",
       "      <td>0.264478</td>\n",
       "      <td>0.740165</td>\n",
       "    </tr>\n",
       "    <tr>\n",
       "      <td>...</td>\n",
       "      <td>...</td>\n",
       "      <td>...</td>\n",
       "      <td>...</td>\n",
       "      <td>...</td>\n",
       "      <td>...</td>\n",
       "      <td>...</td>\n",
       "    </tr>\n",
       "    <tr>\n",
       "      <td>295</td>\n",
       "      <td>1.0</td>\n",
       "      <td>0.509941</td>\n",
       "      <td>0.220193</td>\n",
       "      <td>0.592478</td>\n",
       "      <td>0.236492</td>\n",
       "      <td>0.459283</td>\n",
       "    </tr>\n",
       "    <tr>\n",
       "      <td>296</td>\n",
       "      <td>1.0</td>\n",
       "      <td>0.560048</td>\n",
       "      <td>0.983993</td>\n",
       "      <td>0.244325</td>\n",
       "      <td>0.704074</td>\n",
       "      <td>0.652719</td>\n",
       "    </tr>\n",
       "    <tr>\n",
       "      <td>297</td>\n",
       "      <td>1.0</td>\n",
       "      <td>0.951303</td>\n",
       "      <td>0.800739</td>\n",
       "      <td>0.308865</td>\n",
       "      <td>0.438927</td>\n",
       "      <td>0.334002</td>\n",
       "    </tr>\n",
       "    <tr>\n",
       "      <td>298</td>\n",
       "      <td>1.0</td>\n",
       "      <td>0.714099</td>\n",
       "      <td>0.678637</td>\n",
       "      <td>0.753660</td>\n",
       "      <td>0.838328</td>\n",
       "      <td>0.650965</td>\n",
       "    </tr>\n",
       "    <tr>\n",
       "      <td>299</td>\n",
       "      <td>1.0</td>\n",
       "      <td>0.264643</td>\n",
       "      <td>0.336138</td>\n",
       "      <td>0.256414</td>\n",
       "      <td>0.135222</td>\n",
       "      <td>0.811075</td>\n",
       "    </tr>\n",
       "  </tbody>\n",
       "</table>\n",
       "<p>300 rows × 6 columns</p>\n",
       "</div>"
      ],
      "text/plain": [
       "     Intercept  Temperature  Pressure  Feed Flow rate  Coolant Flow rate  \\\n",
       "0          1.0     0.236264  0.076134        0.362995           0.691460   \n",
       "1          1.0     0.228036  0.345578        0.614305           0.341811   \n",
       "2          1.0     0.464132  0.539093        0.077770           0.989346   \n",
       "3          1.0     0.130004  0.156577        0.839288           0.177930   \n",
       "4          1.0     0.253593  0.483070        0.710477           0.264478   \n",
       "..         ...          ...       ...             ...                ...   \n",
       "295        1.0     0.509941  0.220193        0.592478           0.236492   \n",
       "296        1.0     0.560048  0.983993        0.244325           0.704074   \n",
       "297        1.0     0.951303  0.800739        0.308865           0.438927   \n",
       "298        1.0     0.714099  0.678637        0.753660           0.838328   \n",
       "299        1.0     0.264643  0.336138        0.256414           0.135222   \n",
       "\n",
       "     Inlet reactant concentration  \n",
       "0                        0.192934  \n",
       "1                        0.083939  \n",
       "2                        0.083438  \n",
       "3                        0.277875  \n",
       "4                        0.740165  \n",
       "..                            ...  \n",
       "295                      0.459283  \n",
       "296                      0.652719  \n",
       "297                      0.334002  \n",
       "298                      0.650965  \n",
       "299                      0.811075  \n",
       "\n",
       "[300 rows x 6 columns]"
      ]
     },
     "execution_count": 26,
     "metadata": {},
     "output_type": "execute_result"
    }
   ],
   "source": [
    "X_test"
   ]
  },
  {
   "cell_type": "markdown",
   "metadata": {},
   "source": [
    "### Defining sigmoid function"
   ]
  },
  {
   "cell_type": "code",
   "execution_count": 27,
   "metadata": {},
   "outputs": [],
   "source": [
    "def sigmoid(x):\n",
    "    return 1 / (1 + np.exp(-x))"
   ]
  },
  {
   "cell_type": "code",
   "execution_count": 28,
   "metadata": {},
   "outputs": [
    {
     "data": {
      "text/plain": [
       "0.5"
      ]
     },
     "execution_count": 28,
     "metadata": {},
     "output_type": "execute_result"
    }
   ],
   "source": [
    "sigmoid(0)"
   ]
  },
  {
   "cell_type": "code",
   "execution_count": 29,
   "metadata": {},
   "outputs": [
    {
     "data": {
      "text/plain": [
       "Intercept                       1.000000\n",
       "Temperature                     0.487468\n",
       "Pressure                        0.495030\n",
       "Feed Flow rate                  0.497109\n",
       "Coolant Flow rate               0.487800\n",
       "Inlet reactant concentration    0.498246\n",
       "dtype: float64"
      ]
     },
     "execution_count": 29,
     "metadata": {},
     "output_type": "execute_result"
    }
   ],
   "source": [
    "#parameter initialisation\n",
    "initial_theta = X_train.mean()\n",
    "initial_theta"
   ]
  },
  {
   "cell_type": "markdown",
   "metadata": {},
   "source": [
    "### Defining the function to calculate cost"
   ]
  },
  {
   "cell_type": "code",
   "execution_count": 30,
   "metadata": {},
   "outputs": [],
   "source": [
    "def cost_function(theta, X, y):\n",
    "    \n",
    "    m = len(y)\n",
    "    \n",
    "    predictions = sigmoid(X.dot(theta))\n",
    "    cost = (1/m) * ((-(np.transpose(y)).dot(np.log(predictions)) - np.transpose(1-y).dot(np.log(1-predictions))))\n",
    "    \n",
    "    return cost"
   ]
  },
  {
   "cell_type": "code",
   "execution_count": 31,
   "metadata": {},
   "outputs": [
    {
     "data": {
      "text/plain": [
       "1.0259573460022446"
      ]
     },
     "execution_count": 31,
     "metadata": {},
     "output_type": "execute_result"
    }
   ],
   "source": [
    "#initial cost with initial_theta\n",
    "cost_function(initial_theta, X_train, y_train)"
   ]
  },
  {
   "cell_type": "markdown",
   "metadata": {},
   "source": [
    "### Defining the gradient descent function to calculate optimum parameter values"
   ]
  },
  {
   "cell_type": "code",
   "execution_count": 32,
   "metadata": {},
   "outputs": [],
   "source": [
    "def gradient_descent(X, y, theta, alpha, iterations):\n",
    "    \n",
    "    iter = 0\n",
    "    m = len(y)\n",
    "    \n",
    "    #Cost_history will store the value of cost for each value of theta at different iterations\n",
    "    Cost_history = np.zeros(shape = [iterations, 1])\n",
    "    \n",
    "    while(iter < iterations):\n",
    "\n",
    "        Cost_history[iter] = cost_function(theta, X, y)\n",
    "        theta = theta - alpha * (1/m) * np.transpose((np.transpose(X.dot(theta)-y).dot(X)))\n",
    "        iter = iter + 1\n",
    "        \n",
    "    return Cost_history, theta"
   ]
  },
  {
   "cell_type": "markdown",
   "metadata": {},
   "source": [
    "### Fitting the logistic regression model on the training set"
   ]
  },
  {
   "cell_type": "code",
   "execution_count": 33,
   "metadata": {},
   "outputs": [],
   "source": [
    "[Cost_history, theta] = gradient_descent(X_train, y_train,initial_theta, 0.01, 10000)"
   ]
  },
  {
   "cell_type": "code",
   "execution_count": 34,
   "metadata": {},
   "outputs": [
    {
     "data": {
      "text/plain": [
       "array([[1.02595735],\n",
       "       [1.01417121],\n",
       "       [1.00276711],\n",
       "       ...,\n",
       "       [0.56318138],\n",
       "       [0.56318136],\n",
       "       [0.56318133]])"
      ]
     },
     "execution_count": 34,
     "metadata": {},
     "output_type": "execute_result"
    }
   ],
   "source": [
    "#value of objective function for theta at respective iterations\n",
    "Cost_history"
   ]
  },
  {
   "cell_type": "code",
   "execution_count": 35,
   "metadata": {},
   "outputs": [
    {
     "data": {
      "text/plain": [
       "Intercept                       0.173521\n",
       "Temperature                    -0.059420\n",
       "Pressure                       -0.188315\n",
       "Feed Flow rate                 -0.185543\n",
       "Coolant Flow rate               1.280578\n",
       "Inlet reactant concentration   -0.030402\n",
       "dtype: float64"
      ]
     },
     "execution_count": 35,
     "metadata": {},
     "output_type": "execute_result"
    }
   ],
   "source": [
    "#final parameter values\n",
    "theta"
   ]
  },
  {
   "cell_type": "code",
   "execution_count": 43,
   "metadata": {},
   "outputs": [
    {
     "data": {
      "text/plain": [
       "Text(0.5, 1.0, 'Cost vs. number of iterations')"
      ]
     },
     "execution_count": 43,
     "metadata": {},
     "output_type": "execute_result"
    },
    {
     "data": {
      "image/png": "[encoded data removed]",
      "text/plain": [
       "<Figure size 432x288 with 1 Axes>"
      ]
     },
     "metadata": {
      "needs_background": "light"
     },
     "output_type": "display_data"
    }
   ],
   "source": [
    "Iterations = list(range(10000))\n",
    "plt.plot(Iterations, Cost_history)\n",
    "plt.xlabel('Number of Iterations')\n",
    "plt.ylabel('Value of objective function')\n",
    "plt.title('Cost vs. number of iterations', fontsize = 14)"
   ]
  },
  {
   "cell_type": "markdown",
   "metadata": {},
   "source": [
    "### Performance on test data"
   ]
  },
  {
   "cell_type": "code",
   "execution_count": 44,
   "metadata": {},
   "outputs": [],
   "source": [
    "predictions = (sigmoid(X_test.dot(theta)) >= 0.613)\n",
    "predictions = (predictions == True).astype(int)"
   ]
  },
  {
   "cell_type": "code",
   "execution_count": 45,
   "metadata": {},
   "outputs": [
    {
     "data": {
      "text/plain": [
       "0      1\n",
       "1      0\n",
       "2      1\n",
       "3      0\n",
       "4      0\n",
       "      ..\n",
       "295    0\n",
       "296    1\n",
       "297    1\n",
       "298    1\n",
       "299    0\n",
       "Length: 300, dtype: int32"
      ]
     },
     "execution_count": 45,
     "metadata": {},
     "output_type": "execute_result"
    }
   ],
   "source": [
    "predictions"
   ]
  },
  {
   "cell_type": "code",
   "execution_count": 47,
   "metadata": {},
   "outputs": [
    {
     "data": {
      "text/plain": [
       "0      1\n",
       "1      0\n",
       "2      1\n",
       "3      0\n",
       "4      0\n",
       "      ..\n",
       "295    0\n",
       "296    1\n",
       "297    1\n",
       "298    1\n",
       "299    0\n",
       "Name: Test, Length: 300, dtype: int64"
      ]
     },
     "execution_count": 47,
     "metadata": {},
     "output_type": "execute_result"
    }
   ],
   "source": [
    "y_test"
   ]
  },
  {
   "cell_type": "code",
   "execution_count": 48,
   "metadata": {},
   "outputs": [
    {
     "data": {
      "text/plain": [
       " 0    283\n",
       " 1      9\n",
       "-1      8\n",
       "dtype: int64"
      ]
     },
     "execution_count": 48,
     "metadata": {},
     "output_type": "execute_result"
    }
   ],
   "source": [
    "(predictions - y_test).value_counts()"
   ]
  },
  {
   "cell_type": "code",
   "execution_count": 50,
   "metadata": {},
   "outputs": [
    {
     "data": {
      "text/plain": [
       "0.056666666666666664"
      ]
     },
     "execution_count": 50,
     "metadata": {},
     "output_type": "execute_result"
    }
   ],
   "source": [
    "#Root Mean Square Error\n",
    "rmse_error = sum((predictions - y_test)**2)/len(y_test)\n",
    "rmse_error"
   ]
  },
  {
   "cell_type": "markdown",
   "metadata": {},
   "source": [
    "### Confusion Matrix"
   ]
  },
  {
   "cell_type": "code",
   "execution_count": 51,
   "metadata": {},
   "outputs": [],
   "source": [
    "data = {'y_Actual': y_test, 'y_Predicted': predictions}\n",
    "df_conf = pd.DataFrame(data, columns = ['y_Actual', 'y_Predicted'])\n",
    "confusion_matrix = pd.crosstab(df_conf['y_Actual'], df_conf['y_Predicted'], rownames = ['Actual'], colnames = ['Predicted'])"
   ]
  },
  {
   "cell_type": "code",
   "execution_count": 52,
   "metadata": {},
   "outputs": [
    {
     "data": {
      "text/html": [
       "<div>\n",
       "<style scoped>\n",
       "    .dataframe tbody tr th:only-of-type {\n",
       "        vertical-align: middle;\n",
       "    }\n",
       "\n",
       "    .dataframe tbody tr th {\n",
       "        vertical-align: top;\n",
       "    }\n",
       "\n",
       "    .dataframe thead th {\n",
       "        text-align: right;\n",
       "    }\n",
       "</style>\n",
       "<table border=\"1\" class=\"dataframe\">\n",
       "  <thead>\n",
       "    <tr style=\"text-align: right;\">\n",
       "      <th>Predicted</th>\n",
       "      <th>0</th>\n",
       "      <th>1</th>\n",
       "    </tr>\n",
       "    <tr>\n",
       "      <th>Actual</th>\n",
       "      <th></th>\n",
       "      <th></th>\n",
       "    </tr>\n",
       "  </thead>\n",
       "  <tbody>\n",
       "    <tr>\n",
       "      <td>0</td>\n",
       "      <td>104</td>\n",
       "      <td>9</td>\n",
       "    </tr>\n",
       "    <tr>\n",
       "      <td>1</td>\n",
       "      <td>8</td>\n",
       "      <td>179</td>\n",
       "    </tr>\n",
       "  </tbody>\n",
       "</table>\n",
       "</div>"
      ],
      "text/plain": [
       "Predicted    0    1\n",
       "Actual             \n",
       "0          104    9\n",
       "1            8  179"
      ]
     },
     "execution_count": 52,
     "metadata": {},
     "output_type": "execute_result"
    }
   ],
   "source": [
    "confusion_matrix"
   ]
  },
  {
   "cell_type": "markdown",
   "metadata": {},
   "source": [
    "### Calculating F1 score"
   ]
  },
  {
   "cell_type": "markdown",
   "metadata": {},
   "source": [
    "#### F1 Score: (2 * Precision * Recall)/(Precision + Recall)\n",
    "#### Precision = TruePositives/(TruePositives + FalsePositives)\n",
    "#### Recall = TruePositives/(TruePositives + FalseNegatives)"
   ]
  },
  {
   "cell_type": "code",
   "execution_count": 53,
   "metadata": {},
   "outputs": [],
   "source": [
    "precision = confusion_matrix[1][1]/(confusion_matrix[1][1] + confusion_matrix[1][0])"
   ]
  },
  {
   "cell_type": "code",
   "execution_count": 54,
   "metadata": {},
   "outputs": [
    {
     "data": {
      "text/plain": [
       "0.9521276595744681"
      ]
     },
     "execution_count": 54,
     "metadata": {},
     "output_type": "execute_result"
    }
   ],
   "source": [
    "precision"
   ]
  },
  {
   "cell_type": "code",
   "execution_count": 55,
   "metadata": {},
   "outputs": [],
   "source": [
    "recall = confusion_matrix[1][1]/(confusion_matrix[1][1] + confusion_matrix[0][1])"
   ]
  },
  {
   "cell_type": "code",
   "execution_count": 56,
   "metadata": {},
   "outputs": [
    {
     "data": {
      "text/plain": [
       "0.9572192513368984"
      ]
     },
     "execution_count": 56,
     "metadata": {},
     "output_type": "execute_result"
    }
   ],
   "source": [
    "recall"
   ]
  },
  {
   "cell_type": "code",
   "execution_count": 57,
   "metadata": {},
   "outputs": [],
   "source": [
    "F1_score = (2*precision*recall)/(precision + recall)"
   ]
  },
  {
   "cell_type": "code",
   "execution_count": 58,
   "metadata": {},
   "outputs": [
    {
     "data": {
      "text/plain": [
       "0.9546666666666667"
      ]
     },
     "execution_count": 58,
     "metadata": {},
     "output_type": "execute_result"
    }
   ],
   "source": [
    "F1_score"
   ]
  },
  {
   "cell_type": "code",
   "execution_count": null,
   "metadata": {},
   "outputs": [],
   "source": []
  }
 ],
 "metadata": {
  "kernelspec": {
   "display_name": "Python 3",
   "language": "python",
   "name": "python3"
  },
  "language_info": {
   "codemirror_mode": {
    "name": "ipython",
    "version": 3
   },
   "file_extension": ".py",
   "mimetype": "text/x-python",
   "name": "python",
   "nbconvert_exporter": "python",
   "pygments_lexer": "ipython3",
   "version": "3.7.4"
  }
 },
 "nbformat": 4,
 "nbformat_minor": 2
}
